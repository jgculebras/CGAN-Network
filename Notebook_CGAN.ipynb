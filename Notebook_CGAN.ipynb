{
  "cells": [
    {
      "cell_type": "markdown",
      "metadata": {
        "id": "9rUABChBlZFd"
      },
      "source": [
        "### RED CGAN:\n",
        "Básicamente una red cGAN es una variante de las GANs (Generative Adversarial Networks) que incorpora una condición o etiqueta adicional tanto en el generador como en el discriminador. Esto permite generar muestras condicionadas a información específica lo que resulta útil en tareas de generación o manipulación de datos.\n"
      ]
    },
    {
      "cell_type": "markdown",
      "metadata": {
        "id": "HV9YHq_RxQEL"
      },
      "source": [
        "Lo primero que hacemos es importar las librerías que vamos a usar a lo largo del notebook, después definimos algunas constantes de las imágenes y de las funciones que definiremos más adelante. Cargamos el datasset de MNIST y normalizamos las imágenes."
      ]
    },
    {
      "cell_type": "code",
      "execution_count": 1,
      "metadata": {
        "id": "lvnHap9TlZFh",
        "colab": {
          "base_uri": "https://localhost:8080/"
        },
        "outputId": "815a9645-f343-40e5-9f32-c58ea31cfe82"
      },
      "outputs": [
        {
          "output_type": "stream",
          "name": "stdout",
          "text": [
            "Downloading data from https://storage.googleapis.com/tensorflow/tf-keras-datasets/mnist.npz\n",
            "11490434/11490434 [==============================] - 0s 0us/step\n"
          ]
        }
      ],
      "source": [
        "import numpy as np\n",
        "from tensorflow.keras.datasets import mnist\n",
        "from tensorflow.keras.layers import Input, Dense, Reshape, Flatten, Embedding, multiply\n",
        "from tensorflow.keras.layers import BatchNormalization, Activation, UpSampling2D, Conv2D\n",
        "from tensorflow.keras.models import Sequential, Model\n",
        "from tensorflow.keras.optimizers import Adam\n",
        "from keras.layers import LeakyReLU\n",
        "\n",
        "# Constants\n",
        "IMG_ROWS, IMG_COLS, CHANNELS = 28, 28, 1\n",
        "IMG_SHAPE = (IMG_ROWS, IMG_COLS, CHANNELS)\n",
        "NOISE_DIM = 100\n",
        "NUM_CLASSES = 10\n",
        "\n",
        "# Load MNIST dataset\n",
        "(x_train, y_train), (_, _) = mnist.load_data()\n",
        "\n",
        "# Normalize and reshape images\n",
        "x_train = (x_train.astype(np.float32) - 127.5) / 127.5\n",
        "x_train = np.expand_dims(x_train, axis=-1)\n",
        "\n",
        "# Rescale labels to one-hot vectors\n",
        "y_train = np.eye(NUM_CLASSES)[y_train]"
      ]
    },
    {
      "cell_type": "markdown",
      "metadata": {
        "id": "MQ4B9hvAxQEP"
      },
      "source": [
        "Ahora vamos a definir funciones para construir el generador y el discriminador que usaremos en la propia red cGAN:"
      ]
    },
    {
      "cell_type": "code",
      "execution_count": 2,
      "metadata": {
        "id": "-CaS9p5GlZFi"
      },
      "outputs": [],
      "source": [
        "def build_generator():\n",
        "    model = Sequential()\n",
        "\n",
        "    model.add(Dense(256, input_dim=NOISE_DIM))\n",
        "    model.add(Activation('relu'))\n",
        "    model.add(BatchNormalization())\n",
        "\n",
        "    model.add(Dense(512))\n",
        "    model.add(Activation('relu'))\n",
        "    model.add(BatchNormalization())\n",
        "\n",
        "    model.add(Dense(1024))\n",
        "    model.add(Activation('relu'))\n",
        "    model.add(BatchNormalization())\n",
        "\n",
        "    model.add(Dense(np.prod(IMG_SHAPE), activation='tanh'))\n",
        "    model.add(Reshape(IMG_SHAPE))\n",
        "\n",
        "    noise = Input(shape=(NOISE_DIM,))\n",
        "    label = Input(shape=(NUM_CLASSES,))\n",
        "    label_embedding = Dense(NOISE_DIM)(label)\n",
        "\n",
        "    model_input = multiply([noise, label_embedding])\n",
        "    img = model(model_input)\n",
        "\n",
        "    return Model([noise, label], img)\n",
        "\n",
        "def build_discriminator():\n",
        "    model = Sequential()\n",
        "\n",
        "    model.add(Conv2D(32, kernel_size=3, strides=2, input_shape=IMG_SHAPE, padding=\"same\"))\n",
        "    model.add(LeakyReLU(alpha=0.2))\n",
        "\n",
        "    model.add(Conv2D(64, kernel_size=3, strides=2, padding=\"same\"))\n",
        "    model.add(LeakyReLU(alpha=0.2))\n",
        "\n",
        "    model.add(Flatten())\n",
        "    model.add(Dense(1, activation=\"sigmoid\"))\n",
        "\n",
        "    img = Input(shape=IMG_SHAPE)\n",
        "    validity = model(img)\n",
        "\n",
        "    return Model(img, validity)"
      ]
    },
    {
      "cell_type": "markdown",
      "metadata": {
        "id": "8XZIXt2hxQER"
      },
      "source": [
        "Creamos instancias del generador y discriminador y congelamos al discriminador durante la fase de entrenamiento. Luego construimos la red uniendo el discriminador y el generador y finalmente compilamos la red CGAN usando el optimizador Adam."
      ]
    },
    {
      "cell_type": "code",
      "execution_count": 3,
      "metadata": {
        "id": "iH4OjV__lZFj"
      },
      "outputs": [],
      "source": [
        "# Build the generator\n",
        "generator = build_generator()\n",
        "\n",
        "# Build the discriminator\n",
        "discriminator = build_discriminator()\n",
        "discriminator.compile(loss='binary_crossentropy', optimizer=Adam(), metrics=['accuracy'])\n",
        "\n",
        "# Freeze discriminator's weights during generator training\n",
        "discriminator.trainable = False\n",
        "\n",
        "# Build the CGAN by connecting generator and discriminator\n",
        "noise = Input(shape=(NOISE_DIM,))\n",
        "label = Input(shape=(NUM_CLASSES,))\n",
        "img = generator([noise, label])\n",
        "validity = discriminator(img)\n",
        "\n",
        "# Compile the CGAN model\n",
        "cgan = Model([noise, label], validity)\n",
        "cgan.compile(loss='binary_crossentropy', optimizer=Adam())"
      ]
    },
    {
      "cell_type": "markdown",
      "metadata": {
        "id": "jG5XbdbTxQEU"
      },
      "source": [
        "Para entrenar nuestra red empezamos definiendo parámetros como el número de epochs y en un bucel for entrenamos el generador, el discriminador y mostramos como va el proceso a partir del loss que tengan."
      ]
    },
    {
      "cell_type": "code",
      "execution_count": 29,
      "metadata": {
        "colab": {
          "base_uri": "https://localhost:8080/"
        },
        "id": "Cv-CrJX5pbMq",
        "outputId": "10b77b36-b72f-4292-b946-29f330ad1e77"
      },
      "outputs": [
        {
          "output_type": "stream",
          "name": "stdout",
          "text": [
            "1/1 [==============================] - 0s 29ms/step\n",
            "Epoch 0/100 | Discriminator loss: 0.1293, Generator loss: 2.4529\n",
            "1/1 [==============================] - 0s 28ms/step\n",
            "1/1 [==============================] - 0s 28ms/step\n",
            "1/1 [==============================] - 0s 27ms/step\n",
            "1/1 [==============================] - 0s 29ms/step\n",
            "1/1 [==============================] - 0s 28ms/step\n",
            "1/1 [==============================] - 0s 34ms/step\n",
            "1/1 [==============================] - 0s 29ms/step\n",
            "1/1 [==============================] - 0s 26ms/step\n",
            "1/1 [==============================] - 0s 27ms/step\n",
            "1/1 [==============================] - 0s 26ms/step\n",
            "Epoch 10/100 | Discriminator loss: 0.1739, Generator loss: 2.3741\n",
            "1/1 [==============================] - 0s 38ms/step\n",
            "1/1 [==============================] - 0s 27ms/step\n",
            "1/1 [==============================] - 0s 32ms/step\n",
            "1/1 [==============================] - 0s 25ms/step\n",
            "1/1 [==============================] - 0s 27ms/step\n",
            "1/1 [==============================] - 0s 27ms/step\n",
            "1/1 [==============================] - 0s 28ms/step\n",
            "1/1 [==============================] - 0s 27ms/step\n",
            "1/1 [==============================] - 0s 26ms/step\n",
            "1/1 [==============================] - 0s 29ms/step\n",
            "Epoch 20/100 | Discriminator loss: 0.1266, Generator loss: 2.8600\n",
            "1/1 [==============================] - 0s 55ms/step\n",
            "1/1 [==============================] - 0s 47ms/step\n",
            "1/1 [==============================] - 0s 56ms/step\n",
            "1/1 [==============================] - 0s 47ms/step\n",
            "1/1 [==============================] - 0s 57ms/step\n",
            "1/1 [==============================] - 0s 50ms/step\n",
            "1/1 [==============================] - 0s 51ms/step\n",
            "1/1 [==============================] - 0s 50ms/step\n",
            "1/1 [==============================] - 0s 49ms/step\n",
            "1/1 [==============================] - 0s 54ms/step\n",
            "Epoch 30/100 | Discriminator loss: 0.1175, Generator loss: 2.9686\n",
            "1/1 [==============================] - 0s 35ms/step\n",
            "1/1 [==============================] - 0s 32ms/step\n",
            "1/1 [==============================] - 0s 36ms/step\n",
            "1/1 [==============================] - 0s 38ms/step\n",
            "1/1 [==============================] - 0s 33ms/step\n",
            "1/1 [==============================] - 0s 33ms/step\n",
            "1/1 [==============================] - 0s 33ms/step\n",
            "1/1 [==============================] - 0s 36ms/step\n",
            "1/1 [==============================] - 0s 32ms/step\n",
            "1/1 [==============================] - 0s 48ms/step\n",
            "Epoch 40/100 | Discriminator loss: 0.1120, Generator loss: 2.5778\n",
            "1/1 [==============================] - 0s 33ms/step\n",
            "1/1 [==============================] - 0s 35ms/step\n",
            "1/1 [==============================] - 0s 37ms/step\n",
            "1/1 [==============================] - 0s 38ms/step\n",
            "1/1 [==============================] - 0s 44ms/step\n",
            "1/1 [==============================] - 0s 37ms/step\n",
            "1/1 [==============================] - 0s 41ms/step\n",
            "1/1 [==============================] - 0s 49ms/step\n",
            "1/1 [==============================] - 0s 40ms/step\n",
            "1/1 [==============================] - 0s 36ms/step\n",
            "Epoch 50/100 | Discriminator loss: 0.0653, Generator loss: 3.4670\n",
            "1/1 [==============================] - 0s 29ms/step\n",
            "1/1 [==============================] - 0s 29ms/step\n",
            "1/1 [==============================] - 0s 26ms/step\n",
            "1/1 [==============================] - 0s 35ms/step\n",
            "1/1 [==============================] - 0s 32ms/step\n",
            "1/1 [==============================] - 0s 36ms/step\n",
            "1/1 [==============================] - 0s 36ms/step\n",
            "1/1 [==============================] - 0s 27ms/step\n",
            "1/1 [==============================] - 0s 27ms/step\n",
            "1/1 [==============================] - 0s 35ms/step\n",
            "Epoch 60/100 | Discriminator loss: 0.1543, Generator loss: 2.3453\n",
            "1/1 [==============================] - 0s 28ms/step\n",
            "1/1 [==============================] - 0s 34ms/step\n",
            "1/1 [==============================] - 0s 31ms/step\n",
            "1/1 [==============================] - 0s 30ms/step\n",
            "1/1 [==============================] - 0s 27ms/step\n",
            "1/1 [==============================] - 0s 28ms/step\n",
            "1/1 [==============================] - 0s 30ms/step\n",
            "1/1 [==============================] - 0s 25ms/step\n",
            "1/1 [==============================] - 0s 27ms/step\n",
            "1/1 [==============================] - 0s 32ms/step\n",
            "Epoch 70/100 | Discriminator loss: 0.1486, Generator loss: 3.4927\n",
            "1/1 [==============================] - 0s 28ms/step\n",
            "1/1 [==============================] - 0s 30ms/step\n",
            "1/1 [==============================] - 0s 28ms/step\n",
            "1/1 [==============================] - 0s 27ms/step\n",
            "1/1 [==============================] - 0s 28ms/step\n",
            "1/1 [==============================] - 0s 28ms/step\n",
            "1/1 [==============================] - 0s 30ms/step\n",
            "1/1 [==============================] - 0s 27ms/step\n",
            "1/1 [==============================] - 0s 30ms/step\n",
            "1/1 [==============================] - 0s 26ms/step\n",
            "Epoch 80/100 | Discriminator loss: 0.2308, Generator loss: 2.8435\n",
            "1/1 [==============================] - 0s 28ms/step\n",
            "1/1 [==============================] - 0s 27ms/step\n",
            "1/1 [==============================] - 0s 29ms/step\n",
            "1/1 [==============================] - 0s 27ms/step\n",
            "1/1 [==============================] - 0s 30ms/step\n",
            "1/1 [==============================] - 0s 29ms/step\n",
            "1/1 [==============================] - 0s 34ms/step\n",
            "1/1 [==============================] - 0s 26ms/step\n",
            "1/1 [==============================] - 0s 26ms/step\n",
            "1/1 [==============================] - 0s 42ms/step\n",
            "Epoch 90/100 | Discriminator loss: 0.3237, Generator loss: 2.7685\n",
            "1/1 [==============================] - 0s 39ms/step\n",
            "1/1 [==============================] - 0s 43ms/step\n",
            "1/1 [==============================] - 0s 38ms/step\n",
            "1/1 [==============================] - 0s 40ms/step\n",
            "1/1 [==============================] - 0s 41ms/step\n",
            "1/1 [==============================] - 0s 40ms/step\n",
            "1/1 [==============================] - 0s 40ms/step\n",
            "1/1 [==============================] - 0s 50ms/step\n",
            "1/1 [==============================] - 0s 39ms/step\n"
          ]
        }
      ],
      "source": [
        "# Training\n",
        "BATCH_SIZE = 32\n",
        "EPOCHS = 100\n",
        "SAMPLE_INTERVAL = 10\n",
        "\n",
        "# Adversarial ground truths\n",
        "valid = np.ones((BATCH_SIZE, 1))\n",
        "fake = np.zeros((BATCH_SIZE, 1))\n",
        "\n",
        "for epoch in range(EPOCHS):\n",
        "    # Select a random batch of images\n",
        "    idx = np.random.randint(0, x_train.shape[0], BATCH_SIZE)\n",
        "    real_images = x_train[idx]\n",
        "    labels = y_train[idx]\n",
        "\n",
        "    # Generate a batch of fake images\n",
        "    noise = np.random.normal(0, 1, (BATCH_SIZE, NOISE_DIM))\n",
        "    gen_images = generator.predict([noise, labels])\n",
        "\n",
        "    # Train the discriminator\n",
        "    d_loss_real = discriminator.train_on_batch(real_images, valid)\n",
        "    d_loss_fake = discriminator.train_on_batch(gen_images, fake)\n",
        "    d_loss = 0.5 * np.add(d_loss_real, d_loss_fake)\n",
        "\n",
        "    # Train the generator\n",
        "    noise = np.random.normal(0, 1, (BATCH_SIZE, NOISE_DIM))\n",
        "    g_loss = cgan.train_on_batch([noise, labels], valid)\n",
        "\n",
        "    # Print progress\n",
        "    if epoch % SAMPLE_INTERVAL == 0:\n",
        "        print(f\"Epoch {epoch}/{EPOCHS} | Discriminator loss: {d_loss[0]:.4f}, Generator loss: {g_loss:.4f}\")"
      ]
    },
    {
      "cell_type": "markdown",
      "metadata": {
        "id": "fuaL6ABSxQEX"
      },
      "source": [
        "Para acabar generamos ruido y etiquetas para que la red prediga una serie de imágenes basadas en estos parámetros y vemos el resultado:"
      ]
    },
    {
      "cell_type": "code",
      "execution_count": 31,
      "metadata": {
        "id": "nakd1sHeqEoQ",
        "colab": {
          "base_uri": "https://localhost:8080/",
          "height": 183
        },
        "outputId": "b932be9d-aece-406b-f6aa-d2e8f6f271fa"
      },
      "outputs": [
        {
          "output_type": "stream",
          "name": "stdout",
          "text": [
            "1/1 [==============================] - 0s 29ms/step\n"
          ]
        },
        {
          "output_type": "display_data",
          "data": {
            "text/plain": [
              "<Figure size 1000x200 with 10 Axes>"
            ],
            "image/png": "[encoded data removed]"
          },
          "metadata": {}
        }
      ],
      "source": [
        "import matplotlib.pyplot as plt\n",
        "\n",
        "# Generate synthetic images\n",
        "num_examples = 10\n",
        "noise = np.random.normal(0, 1, (num_examples, NOISE_DIM))\n",
        "labels = np.eye(NUM_CLASSES)[np.arange(num_examples) % NUM_CLASSES]\n",
        "generated_images = generator.predict([noise, labels])\n",
        "\n",
        "# Rescale generated images to [0, 1]\n",
        "generated_images = 0.5 * generated_images + 0.5\n",
        "\n",
        "# Plot generated images\n",
        "fig, axs = plt.subplots(1, num_examples, figsize=(10, 2))\n",
        "fig.suptitle('Generated Images', fontsize=14, fontweight='bold')\n",
        "for i in range(num_examples):\n",
        "    axs[i].imshow(generated_images[i, :, :, 0], cmap='gray')\n",
        "    axs[i].axis('off')\n",
        "plt.show()"
      ]
    }
  ],
  "metadata": {
    "colab": {
      "provenance": []
    },
    "kernelspec": {
      "display_name": "Python 3",
      "language": "python",
      "name": "python3"
    },
    "language_info": {
      "codemirror_mode": {
        "name": "ipython",
        "version": 3
      },
      "file_extension": ".py",
      "mimetype": "text/x-python",
      "name": "python",
      "nbconvert_exporter": "python",
      "pygments_lexer": "ipython3",
      "version": "3.11.2"
    },
    "orig_nbformat": 4
  },
  "nbformat": 4,
  "nbformat_minor": 0
}